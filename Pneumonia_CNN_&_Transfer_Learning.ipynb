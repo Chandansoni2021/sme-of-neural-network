{
  "metadata": {
    "kernelspec": {
      "language": "python",
      "display_name": "Python 3",
      "name": "python3"
    },
    "language_info": {
      "pygments_lexer": "ipython3",
      "nbconvert_exporter": "python",
      "version": "3.6.4",
      "file_extension": ".py",
      "codemirror_mode": {
        "name": "ipython",
        "version": 3
      },
      "name": "python",
      "mimetype": "text/x-python"
    },
    "kaggle": {
      "accelerator": "gpu",
      "dataSources": [
        {
          "sourceId": 23812,
          "sourceType": "datasetVersion",
          "datasetId": 17810
        },
        {
          "sourceId": 1426603,
          "sourceType": "datasetVersion",
          "datasetId": 835414
        }
      ],
      "dockerImageVersionId": 30123,
      "isInternetEnabled": false,
      "language": "python",
      "sourceType": "notebook",
      "isGpuEnabled": true
    },
    "colab": {
      "name": "Chest X-Ray (Pneumonia) - CNN & Transfer Learning",
      "provenance": []
    }
  },
  "nbformat_minor": 0,
  "nbformat": 4,
  "cells": [
    {
      "source": [
        "\n",
        "# IMPORTANT: RUN THIS CELL IN ORDER TO IMPORT YOUR KAGGLE DATA SOURCES\n",
        "# TO THE CORRECT LOCATION (/kaggle/input) IN YOUR NOTEBOOK,\n",
        "# THEN FEEL FREE TO DELETE THIS CELL.\n",
        "# NOTE: THIS NOTEBOOK ENVIRONMENT DIFFERS FROM KAGGLE'S PYTHON\n",
        "# ENVIRONMENT SO THERE MAY BE MISSING LIBRARIES USED BY YOUR\n",
        "# NOTEBOOK.\n",
        "\n",
        "import os\n",
        "import sys\n",
        "from tempfile import NamedTemporaryFile\n",
        "from urllib.request import urlopen\n",
        "from urllib.parse import unquote, urlparse\n",
        "from urllib.error import HTTPError\n",
        "from zipfile import ZipFile\n",
        "import tarfile\n",
        "import shutil\n",
        "\n",
        "CHUNK_SIZE = 40960\n",
        "DATA_SOURCE_MAPPING = 'chest-xray-pneumonia:https%3A%2F%2Fstorage.googleapis.com%2Fkaggle-data-sets%2F17810%2F23812%2Fbundle%2Farchive.zip%3FX-Goog-Algorithm%3DGOOG4-RSA-SHA256%26X-Goog-Credential%3Dgcp-kaggle-com%2540kaggle-161607.iam.gserviceaccount.com%252F20240217%252Fauto%252Fstorage%252Fgoog4_request%26X-Goog-Date%3D20240217T051057Z%26X-Goog-Expires%3D259200%26X-Goog-SignedHeaders%3Dhost%26X-Goog-Signature%3D33a85c649cc17013923edab33a9687d8ba2cec3b16f616670a6f181be7f3f79948d89ba10f23101421cea9bf1eb93b16f1706a5d33e770c61c09762e07599d0084908f06a96ace0e4e66d0b3bda8870671855ff36858a517acb41eea74cd6de25390826bf847292e7edad0af07332e3ed941f2e9bb68f753b55ac1fd0fa881a41ce209f8900a5362a6c51f89c026ca64610e937356948302f546083c17bc89d4cc3e1e043c95e35162cbc1984a7ba506548b70c8c102e8e1468ab80d39f4b1d1630db7fa676810114ac6c087d131b83718cea7771e1a94b48a16d7de954cceb416b1903c8ac8e2cbfe59487cdd476b1cc50089c083abfeb345bba6514aebbf28,labeled-chest-xray-images:https%3A%2F%2Fstorage.googleapis.com%2Fkaggle-data-sets%2F835414%2F1426603%2Fbundle%2Farchive.zip%3FX-Goog-Algorithm%3DGOOG4-RSA-SHA256%26X-Goog-Credential%3Dgcp-kaggle-com%2540kaggle-161607.iam.gserviceaccount.com%252F20240217%252Fauto%252Fstorage%252Fgoog4_request%26X-Goog-Date%3D20240217T051057Z%26X-Goog-Expires%3D259200%26X-Goog-SignedHeaders%3Dhost%26X-Goog-Signature%3D6de7dcea419f96f5ef11c04321a62e30fd25b76838868276695194c4aeab08b75a16f4ce0ea13a481d1c59b55bc96da1f2bb790760d1121734938ab281e2b47c0733d3015e822735d8a8e40ebf81373c999e451bb7f551fb1c117737b593b8e7dfeac24de0e8582e455bc1ce64acc670bc24d2e4578086ab8490b746ee811c45a9b63921f200b699f0682ff93b1774e765ea98b7088df4756b52b5b79abd11be363f67aa3b53d852ff5c519d271c2b750a35fb893ceb40260e191d2dfda5a639088de74dec58993f440f7455af88fa85f72d3a75c54d7607520b93d12b49315420a81309dc2b564310ea4b52fa05639399f068325f88a54b5cef69cd91c3bb3e'\n",
        "\n",
        "KAGGLE_INPUT_PATH='/kaggle/input'\n",
        "KAGGLE_WORKING_PATH='/kaggle/working'\n",
        "KAGGLE_SYMLINK='kaggle'\n",
        "\n",
        "!umount /kaggle/input/ 2> /dev/null\n",
        "shutil.rmtree('/kaggle/input', ignore_errors=True)\n",
        "os.makedirs(KAGGLE_INPUT_PATH, 0o777, exist_ok=True)\n",
        "os.makedirs(KAGGLE_WORKING_PATH, 0o777, exist_ok=True)\n",
        "\n",
        "try:\n",
        "  os.symlink(KAGGLE_INPUT_PATH, os.path.join(\"..\", 'input'), target_is_directory=True)\n",
        "except FileExistsError:\n",
        "  pass\n",
        "try:\n",
        "  os.symlink(KAGGLE_WORKING_PATH, os.path.join(\"..\", 'working'), target_is_directory=True)\n",
        "except FileExistsError:\n",
        "  pass\n",
        "\n",
        "for data_source_mapping in DATA_SOURCE_MAPPING.split(','):\n",
        "    directory, download_url_encoded = data_source_mapping.split(':')\n",
        "    download_url = unquote(download_url_encoded)\n",
        "    filename = urlparse(download_url).path\n",
        "    destination_path = os.path.join(KAGGLE_INPUT_PATH, directory)\n",
        "    try:\n",
        "        with urlopen(download_url) as fileres, NamedTemporaryFile() as tfile:\n",
        "            total_length = fileres.headers['content-length']\n",
        "            print(f'Downloading {directory}, {total_length} bytes compressed')\n",
        "            dl = 0\n",
        "            data = fileres.read(CHUNK_SIZE)\n",
        "            while len(data) > 0:\n",
        "                dl += len(data)\n",
        "                tfile.write(data)\n",
        "                done = int(50 * dl / int(total_length))\n",
        "                sys.stdout.write(f\"\\r[{'=' * done}{' ' * (50-done)}] {dl} bytes downloaded\")\n",
        "                sys.stdout.flush()\n",
        "                data = fileres.read(CHUNK_SIZE)\n",
        "            if filename.endswith('.zip'):\n",
        "              with ZipFile(tfile) as zfile:\n",
        "                zfile.extractall(destination_path)\n",
        "            else:\n",
        "              with tarfile.open(tfile.name) as tarfile:\n",
        "                tarfile.extractall(destination_path)\n",
        "            print(f'\\nDownloaded and uncompressed: {directory}')\n",
        "    except HTTPError as e:\n",
        "        print(f'Failed to load (likely expired) {download_url} to path {destination_path}')\n",
        "        continue\n",
        "    except OSError as e:\n",
        "        print(f'Failed to load {download_url} to path {destination_path}')\n",
        "        continue\n",
        "\n",
        "print('Data source import complete.')\n"
      ],
      "metadata": {
        "id": "29W8cDiHZQ6c"
      },
      "cell_type": "code",
      "outputs": [],
      "execution_count": null
    },
    {
      "cell_type": "markdown",
      "source": [
        "<br>\n",
        "<h1 style = \"font-size:30px; font-weight : bold; color : blue; text-align: center; border-radius: 10px 15px;\">Chest X-Ray (Pneumonia): Image Classification w/Convolutional Neural Networks and Transfer Learning</h1>\n",
        "<br>\n",
        "\n",
        "---"
      ],
      "metadata": {
        "id": "wyaKdVWAZQ6n"
      }
    },
    {
      "cell_type": "markdown",
      "source": [
        "## <center> If you find this notebook useful, support with an upvote! <center>"
      ],
      "metadata": {
        "id": "av4285H6ZQ6s"
      }
    },
    {
      "cell_type": "markdown",
      "source": [
        "# <a id=\"2\">Importing Packages and Dataset</a>"
      ],
      "metadata": {
        "id": "FzrMjRmEZQ6s"
      }
    },
    {
      "cell_type": "code",
      "source": [
        "import pandas as pd\n",
        "import matplotlib as mat\n",
        "import matplotlib.pyplot as plt\n",
        "import numpy as np\n",
        "import seaborn as sns\n",
        "%matplotlib inline\n",
        "\n",
        "pd.options.display.max_colwidth = 100\n",
        "\n",
        "import random\n",
        "import os\n",
        "\n",
        "from numpy.random import seed\n",
        "seed(42)\n",
        "\n",
        "random.seed(42)\n",
        "os.environ['PYTHONHASHSEED'] = str(42)\n",
        "os.environ['TF_DETERMINISTIC_OPS'] = '1'\n",
        "\n",
        "from sklearn.model_selection import train_test_split\n",
        "from sklearn import metrics\n",
        "from sklearn.metrics import accuracy_score\n",
        "\n",
        "import tensorflow as tf\n",
        "from tensorflow import keras\n",
        "from tensorflow.keras import layers\n",
        "from tensorflow.keras import callbacks\n",
        "from tensorflow.keras.models import Model\n",
        "from tensorflow.keras.preprocessing.image import ImageDataGenerator\n",
        "\n",
        "import glob\n",
        "import cv2\n",
        "\n",
        "from tensorflow.random import set_seed\n",
        "set_seed(42)\n",
        "\n",
        "import warnings\n",
        "warnings.filterwarnings('ignore')"
      ],
      "metadata": {
        "execution": {
          "iopub.status.busy": "2022-01-27T20:34:16.657809Z",
          "iopub.execute_input": "2022-01-27T20:34:16.658068Z",
          "iopub.status.idle": "2022-01-27T20:34:16.680326Z",
          "shell.execute_reply.started": "2022-01-27T20:34:16.65804Z",
          "shell.execute_reply": "2022-01-27T20:34:16.679643Z"
        },
        "trusted": true,
        "id": "tphpBFUNZQ6u"
      },
      "execution_count": null,
      "outputs": []
    },
    {
      "cell_type": "code",
      "source": [
        "IMG_SIZE = 224\n",
        "BATCH = 32\n",
        "SEED = 42"
      ],
      "metadata": {
        "execution": {
          "iopub.status.busy": "2022-01-27T20:34:16.682176Z",
          "iopub.execute_input": "2022-01-27T20:34:16.682898Z",
          "iopub.status.idle": "2022-01-27T20:34:16.690893Z",
          "shell.execute_reply.started": "2022-01-27T20:34:16.682861Z",
          "shell.execute_reply": "2022-01-27T20:34:16.690085Z"
        },
        "trusted": true,
        "id": "Q5q5N2cNZQ6w"
      },
      "execution_count": null,
      "outputs": []
    },
    {
      "cell_type": "code",
      "source": [
        "#main_path = \"../input/chest-xray-pneumonia/chest_xray/\"\n",
        "main_path = \"../input/labeled-chest-xray-images/chest_xray\"\n",
        "\n",
        "\n",
        "train_path = os.path.join(main_path,\"train\")\n",
        "test_path=os.path.join(main_path,\"test\")\n",
        "\n",
        "train_normal = glob.glob(train_path+\"/NORMAL/*.jpeg\")\n",
        "train_pneumonia = glob.glob(train_path+\"/PNEUMONIA/*.jpeg\")\n",
        "\n",
        "test_normal = glob.glob(test_path+\"/NORMAL/*.jpeg\")\n",
        "test_pneumonia = glob.glob(test_path+\"/PNEUMONIA/*.jpeg\")"
      ],
      "metadata": {
        "execution": {
          "iopub.status.busy": "2022-01-27T20:34:16.692506Z",
          "iopub.execute_input": "2022-01-27T20:34:16.692855Z",
          "iopub.status.idle": "2022-01-27T20:34:16.735173Z",
          "shell.execute_reply.started": "2022-01-27T20:34:16.692824Z",
          "shell.execute_reply": "2022-01-27T20:34:16.73456Z"
        },
        "trusted": true,
        "id": "G7rDcZLnZQ6z"
      },
      "execution_count": null,
      "outputs": []
    },
    {
      "cell_type": "code",
      "source": [
        "train_list = [x for x in train_normal]\n",
        "train_list.extend([x for x in train_pneumonia])\n",
        "\n",
        "df_train = pd.DataFrame(np.concatenate([['Normal']*len(train_normal) , ['Pneumonia']*len(train_pneumonia)]), columns = ['class'])\n",
        "df_train['image'] = [x for x in train_list]\n",
        "\n",
        "test_list = [x for x in test_normal]\n",
        "test_list.extend([x for x in test_pneumonia])\n",
        "\n",
        "df_test = pd.DataFrame(np.concatenate([['Normal']*len(test_normal) , ['Pneumonia']*len(test_pneumonia)]), columns = ['class'])\n",
        "df_test['image'] = [x for x in test_list]"
      ],
      "metadata": {
        "execution": {
          "iopub.status.busy": "2022-01-27T20:34:16.736321Z",
          "iopub.execute_input": "2022-01-27T20:34:16.736657Z",
          "iopub.status.idle": "2022-01-27T20:34:16.751314Z",
          "shell.execute_reply.started": "2022-01-27T20:34:16.736614Z",
          "shell.execute_reply": "2022-01-27T20:34:16.750508Z"
        },
        "trusted": true,
        "id": "z7vx55A2ZQ6z"
      },
      "execution_count": null,
      "outputs": []
    },
    {
      "cell_type": "code",
      "source": [
        "df_train"
      ],
      "metadata": {
        "execution": {
          "iopub.status.busy": "2022-01-27T20:34:16.753713Z",
          "iopub.execute_input": "2022-01-27T20:34:16.754062Z",
          "iopub.status.idle": "2022-01-27T20:34:16.772026Z",
          "shell.execute_reply.started": "2022-01-27T20:34:16.754029Z",
          "shell.execute_reply": "2022-01-27T20:34:16.771374Z"
        },
        "trusted": true,
        "id": "LKZ535ejZQ60"
      },
      "execution_count": null,
      "outputs": []
    },
    {
      "cell_type": "code",
      "source": [
        "df_test"
      ],
      "metadata": {
        "execution": {
          "iopub.status.busy": "2022-01-27T20:34:16.773313Z",
          "iopub.execute_input": "2022-01-27T20:34:16.773778Z",
          "iopub.status.idle": "2022-01-27T20:34:16.787942Z",
          "shell.execute_reply.started": "2022-01-27T20:34:16.773745Z",
          "shell.execute_reply": "2022-01-27T20:34:16.787221Z"
        },
        "trusted": true,
        "id": "wEIURoPBZQ61"
      },
      "execution_count": null,
      "outputs": []
    },
    {
      "cell_type": "markdown",
      "source": [
        "# <a id=\"3\">Exploring the Data</a>"
      ],
      "metadata": {
        "id": "1gINLWhHZQ61"
      }
    },
    {
      "cell_type": "markdown",
      "source": [
        "Let's check the target distribution on each set"
      ],
      "metadata": {
        "id": "Za8NUT5xZQ61"
      }
    },
    {
      "cell_type": "code",
      "source": [
        "plt.figure(figsize=(6,4))\n",
        "\n",
        "ax = sns.countplot(x='class', data=df_train, palette=\"mako\")\n",
        "\n",
        "plt.xlabel(\"Class\", fontsize= 12)\n",
        "plt.ylabel(\"# of Samples\", fontsize= 12)\n",
        "plt.ylim(0,5000)\n",
        "plt.xticks([0,1], ['Normal', 'Pneumonia'], fontsize = 11)\n",
        "\n",
        "for p in ax.patches:\n",
        "    ax.annotate((p.get_height()), (p.get_x()+0.30, p.get_height()+300), fontsize = 13)\n",
        "\n",
        "plt.show()"
      ],
      "metadata": {
        "_kg_hide-input": true,
        "execution": {
          "iopub.status.busy": "2022-01-27T20:34:16.789227Z",
          "iopub.execute_input": "2022-01-27T20:34:16.789697Z",
          "iopub.status.idle": "2022-01-27T20:34:16.952192Z",
          "shell.execute_reply.started": "2022-01-27T20:34:16.789665Z",
          "shell.execute_reply": "2022-01-27T20:34:16.951449Z"
        },
        "trusted": true,
        "id": "8kvBcOWnZQ62"
      },
      "execution_count": null,
      "outputs": []
    },
    {
      "cell_type": "code",
      "source": [
        "plt.figure(figsize=(7,5))\n",
        "\n",
        "df_train['class'].value_counts().plot(kind='pie',labels = ['',''], autopct='%1.1f%%', colors = ['darkcyan','blue'], explode = [0,0.05], textprops = {\"fontsize\":15})\n",
        "\n",
        "plt.legend(labels=['Pneumonia', 'Normal'])\n",
        "plt.show()"
      ],
      "metadata": {
        "_kg_hide-input": true,
        "execution": {
          "iopub.status.busy": "2022-01-27T20:34:16.953605Z",
          "iopub.execute_input": "2022-01-27T20:34:16.954084Z",
          "iopub.status.idle": "2022-01-27T20:34:17.085356Z",
          "shell.execute_reply.started": "2022-01-27T20:34:16.954049Z",
          "shell.execute_reply": "2022-01-27T20:34:17.084535Z"
        },
        "trusted": true,
        "id": "TEuQ0NNFZQ63"
      },
      "execution_count": null,
      "outputs": []
    },
    {
      "cell_type": "code",
      "source": [
        "plt.figure(figsize=(6,4))\n",
        "\n",
        "ax = sns.countplot(x='class', data=df_test, palette=\"mako\")\n",
        "\n",
        "plt.xlabel(\"Class\", fontsize= 12)\n",
        "plt.ylabel(\"# of Samples\", fontsize= 12)\n",
        "plt.ylim(0,500)\n",
        "plt.xticks([0,1], ['Normal', 'Pneumonia'], fontsize = 11)\n",
        "\n",
        "for p in ax.patches:\n",
        "    ax.annotate((p.get_height()), (p.get_x()+0.32, p.get_height()+20), fontsize = 13)\n",
        "\n",
        "plt.show()"
      ],
      "metadata": {
        "_kg_hide-input": true,
        "execution": {
          "iopub.status.busy": "2022-01-27T20:34:17.086426Z",
          "iopub.execute_input": "2022-01-27T20:34:17.086646Z",
          "iopub.status.idle": "2022-01-27T20:34:17.247706Z",
          "shell.execute_reply.started": "2022-01-27T20:34:17.086613Z",
          "shell.execute_reply": "2022-01-27T20:34:17.247022Z"
        },
        "trusted": true,
        "id": "8QyiuL8gZQ64"
      },
      "execution_count": null,
      "outputs": []
    },
    {
      "cell_type": "code",
      "source": [
        "plt.figure(figsize=(7,5))\n",
        "\n",
        "df_test['class'].value_counts().plot(kind='pie',labels = ['',''], autopct='%1.1f%%', colors = ['darkcyan','blue'], explode = [0,0.05], textprops = {\"fontsize\":15})\n",
        "\n",
        "plt.legend(labels=['Pneumonia', 'Normal'])\n",
        "plt.show()"
      ],
      "metadata": {
        "_kg_hide-input": true,
        "execution": {
          "iopub.status.busy": "2022-01-27T20:34:17.249Z",
          "iopub.execute_input": "2022-01-27T20:34:17.249391Z",
          "iopub.status.idle": "2022-01-27T20:34:17.390251Z",
          "shell.execute_reply.started": "2022-01-27T20:34:17.249356Z",
          "shell.execute_reply": "2022-01-27T20:34:17.389495Z"
        },
        "trusted": true,
        "id": "LkJyLr1SZQ65"
      },
      "execution_count": null,
      "outputs": []
    },
    {
      "cell_type": "markdown",
      "source": [
        "The distributions from these datasets are a little different from each other. Both are slightly imbalanced, having more samples from the positive class (Pneumonia), with the training set being a little more imbalanced.\n",
        "\n",
        "Before we move on to the next section, we will take a look at a few examples from each dataset."
      ],
      "metadata": {
        "id": "R733KN_4ZQ65"
      }
    },
    {
      "cell_type": "code",
      "source": [
        "print('Train Set - Normal')\n",
        "\n",
        "plt.figure(figsize=(12,12))\n",
        "\n",
        "for i in range(0, 12):\n",
        "    plt.subplot(3,4,i + 1)\n",
        "    img = cv2.imread(train_normal[i])\n",
        "    img = cv2.resize(img, (IMG_SIZE,IMG_SIZE))\n",
        "    plt.imshow(img)\n",
        "    plt.axis(\"off\")\n",
        "\n",
        "plt.tight_layout()\n",
        "\n",
        "plt.show()"
      ],
      "metadata": {
        "_kg_hide-input": true,
        "execution": {
          "iopub.status.busy": "2022-01-27T20:34:17.391499Z",
          "iopub.execute_input": "2022-01-27T20:34:17.392426Z",
          "iopub.status.idle": "2022-01-27T20:34:19.168235Z",
          "shell.execute_reply.started": "2022-01-27T20:34:17.392384Z",
          "shell.execute_reply": "2022-01-27T20:34:19.167623Z"
        },
        "trusted": true,
        "id": "p4j2yRvPZQ65"
      },
      "execution_count": null,
      "outputs": []
    },
    {
      "cell_type": "code",
      "source": [
        "print('Train Set - Pneumonia')\n",
        "\n",
        "plt.figure(figsize=(12,12))\n",
        "\n",
        "for i in range(0, 12):\n",
        "    plt.subplot(3,4,i + 1)\n",
        "    img = cv2.imread(train_pneumonia[i])\n",
        "    img = cv2.resize(img, (IMG_SIZE,IMG_SIZE))\n",
        "    plt.imshow(img)\n",
        "    plt.axis(\"off\")\n",
        "\n",
        "plt.tight_layout()\n",
        "\n",
        "plt.show()"
      ],
      "metadata": {
        "_kg_hide-input": true,
        "execution": {
          "iopub.status.busy": "2022-01-27T20:34:19.169598Z",
          "iopub.execute_input": "2022-01-27T20:34:19.170085Z",
          "iopub.status.idle": "2022-01-27T20:34:20.136116Z",
          "shell.execute_reply.started": "2022-01-27T20:34:19.17005Z",
          "shell.execute_reply": "2022-01-27T20:34:20.135529Z"
        },
        "trusted": true,
        "id": "vxjVedFrZQ66"
      },
      "execution_count": null,
      "outputs": []
    },
    {
      "cell_type": "code",
      "source": [
        "print('Test Set - Normal')\n",
        "\n",
        "plt.figure(figsize=(12,12))\n",
        "\n",
        "for i in range(0, 12):\n",
        "    plt.subplot(3,4,i + 1)\n",
        "    img = cv2.imread(test_normal[i])\n",
        "    img = cv2.resize(img, (IMG_SIZE,IMG_SIZE))\n",
        "    plt.imshow(img)\n",
        "    plt.axis(\"off\")\n",
        "\n",
        "plt.tight_layout()\n",
        "\n",
        "plt.show()"
      ],
      "metadata": {
        "_kg_hide-input": true,
        "execution": {
          "iopub.status.busy": "2022-01-27T20:34:20.137276Z",
          "iopub.execute_input": "2022-01-27T20:34:20.137697Z",
          "iopub.status.idle": "2022-01-27T20:34:21.228241Z",
          "shell.execute_reply.started": "2022-01-27T20:34:20.137657Z",
          "shell.execute_reply": "2022-01-27T20:34:21.227654Z"
        },
        "trusted": true,
        "id": "pdTGR-WNZQ66"
      },
      "execution_count": null,
      "outputs": []
    },
    {
      "cell_type": "code",
      "source": [
        "print('Test Set - Pneumonia')\n",
        "\n",
        "plt.figure(figsize=(12,12))\n",
        "\n",
        "for i in range(0, 12):\n",
        "    plt.subplot(3,4,i + 1)\n",
        "    img = cv2.imread(test_pneumonia[i])\n",
        "    img = cv2.resize(img, (IMG_SIZE,IMG_SIZE))\n",
        "    plt.imshow(img)\n",
        "    plt.axis(\"off\")\n",
        "\n",
        "plt.tight_layout()\n",
        "\n",
        "plt.show()"
      ],
      "metadata": {
        "_kg_hide-input": true,
        "execution": {
          "iopub.status.busy": "2022-01-27T20:34:21.231951Z",
          "iopub.execute_input": "2022-01-27T20:34:21.232376Z",
          "iopub.status.idle": "2022-01-27T20:34:22.18207Z",
          "shell.execute_reply.started": "2022-01-27T20:34:21.232339Z",
          "shell.execute_reply": "2022-01-27T20:34:22.181441Z"
        },
        "trusted": true,
        "id": "uPGvJ2FdZQ67"
      },
      "execution_count": null,
      "outputs": []
    },
    {
      "cell_type": "markdown",
      "source": [
        "# <a id=\"4\">Preparing the Data</a>"
      ],
      "metadata": {
        "id": "CGQM48dWZQ68"
      }
    },
    {
      "cell_type": "markdown",
      "source": [
        "First, we need to create a validation set. To do that, we apply a simple stratified split on the original train dataset, using 80% for actual training and 20% for validation purposes."
      ],
      "metadata": {
        "id": "cd_XkO80ZQ68"
      }
    },
    {
      "cell_type": "code",
      "source": [
        "train_df, val_df = train_test_split(df_train, test_size = 0.20, random_state = SEED, stratify = df_train['class'])"
      ],
      "metadata": {
        "execution": {
          "iopub.status.busy": "2022-01-27T20:34:22.183414Z",
          "iopub.execute_input": "2022-01-27T20:34:22.183924Z",
          "iopub.status.idle": "2022-01-27T20:34:22.203255Z",
          "shell.execute_reply.started": "2022-01-27T20:34:22.18389Z",
          "shell.execute_reply": "2022-01-27T20:34:22.202348Z"
        },
        "trusted": true,
        "id": "qScI7Q0vZQ68"
      },
      "execution_count": null,
      "outputs": []
    },
    {
      "cell_type": "code",
      "source": [
        "train_df"
      ],
      "metadata": {
        "execution": {
          "iopub.status.busy": "2022-01-27T20:34:22.204754Z",
          "iopub.execute_input": "2022-01-27T20:34:22.205257Z",
          "iopub.status.idle": "2022-01-27T20:34:22.220007Z",
          "shell.execute_reply.started": "2022-01-27T20:34:22.205223Z",
          "shell.execute_reply": "2022-01-27T20:34:22.219401Z"
        },
        "trusted": true,
        "id": "4mURj0oAZQ68"
      },
      "execution_count": null,
      "outputs": []
    },
    {
      "cell_type": "code",
      "source": [
        "val_df"
      ],
      "metadata": {
        "execution": {
          "iopub.status.busy": "2022-01-27T20:34:22.221425Z",
          "iopub.execute_input": "2022-01-27T20:34:22.222064Z",
          "iopub.status.idle": "2022-01-27T20:34:22.237191Z",
          "shell.execute_reply.started": "2022-01-27T20:34:22.221996Z",
          "shell.execute_reply": "2022-01-27T20:34:22.236443Z"
        },
        "trusted": true,
        "id": "3Cw_MOHxZQ69"
      },
      "execution_count": null,
      "outputs": []
    },
    {
      "cell_type": "code",
      "source": [
        "# https://vijayabhaskar96.medium.com/tutorial-on-keras-flow-from-dataframe-1fd4493d237c\n",
        "\n",
        "train_datagen = ImageDataGenerator(rescale=1/255.,\n",
        "                                  zoom_range = 0.1,\n",
        "                                  #rotation_range = 0.1,\n",
        "                                  width_shift_range = 0.1,\n",
        "                                  height_shift_range = 0.1)\n",
        "\n",
        "val_datagen = ImageDataGenerator(rescale=1/255.)\n",
        "\n",
        "ds_train = train_datagen.flow_from_dataframe(train_df,\n",
        "                                             #directory=train_path, #dataframe contains the full paths\n",
        "                                             x_col = 'image',\n",
        "                                             y_col = 'class',\n",
        "                                             target_size = (IMG_SIZE, IMG_SIZE),\n",
        "                                             class_mode = 'binary',\n",
        "                                             batch_size = BATCH,\n",
        "                                             seed = SEED)\n",
        "\n",
        "ds_val = val_datagen.flow_from_dataframe(val_df,\n",
        "                                            #directory=train_path,\n",
        "                                            x_col = 'image',\n",
        "                                            y_col = 'class',\n",
        "                                            target_size = (IMG_SIZE, IMG_SIZE),\n",
        "                                            class_mode = 'binary',\n",
        "                                            batch_size = BATCH,\n",
        "                                            seed = SEED)\n",
        "\n",
        "ds_test = val_datagen.flow_from_dataframe(df_test,\n",
        "                                            #directory=test_path,\n",
        "                                            x_col = 'image',\n",
        "                                            y_col = 'class',\n",
        "                                            target_size = (IMG_SIZE, IMG_SIZE),\n",
        "                                            class_mode = 'binary',\n",
        "                                            batch_size = 1,\n",
        "                                            shuffle = False)"
      ],
      "metadata": {
        "execution": {
          "iopub.status.busy": "2022-01-27T20:34:22.238714Z",
          "iopub.execute_input": "2022-01-27T20:34:22.23926Z",
          "iopub.status.idle": "2022-01-27T20:34:24.263852Z",
          "shell.execute_reply.started": "2022-01-27T20:34:22.239224Z",
          "shell.execute_reply": "2022-01-27T20:34:24.263116Z"
        },
        "trusted": true,
        "id": "XJgQVN7mZQ69"
      },
      "execution_count": null,
      "outputs": []
    },
    {
      "cell_type": "markdown",
      "source": [
        "Now, we are ready for the next stage: creating and training the image classification models."
      ],
      "metadata": {
        "id": "XZ0xR0l0ZQ69"
      }
    },
    {
      "cell_type": "markdown",
      "source": [
        "# <a id=\"5\">Custom CNN</a>"
      ],
      "metadata": {
        "id": "9ZY4KokGZQ6-"
      }
    },
    {
      "cell_type": "code",
      "source": [
        "#Setting callbakcs\n",
        "\n",
        "early_stopping = callbacks.EarlyStopping(\n",
        "    monitor='val_loss',\n",
        "    patience=5,\n",
        "    min_delta=1e-7,\n",
        "    restore_best_weights=True,\n",
        ")\n",
        "\n",
        "plateau = callbacks.ReduceLROnPlateau(\n",
        "    monitor='val_loss',\n",
        "    factor = 0.2,\n",
        "    patience = 2,\n",
        "    min_delt = 1e-7,\n",
        "    cooldown = 0,\n",
        "    verbose = 1\n",
        ")"
      ],
      "metadata": {
        "execution": {
          "iopub.status.busy": "2022-01-27T20:34:24.264925Z",
          "iopub.execute_input": "2022-01-27T20:34:24.265535Z",
          "iopub.status.idle": "2022-01-27T20:34:24.27219Z",
          "shell.execute_reply.started": "2022-01-27T20:34:24.265497Z",
          "shell.execute_reply": "2022-01-27T20:34:24.271163Z"
        },
        "trusted": true,
        "id": "NW__zvkNZQ6-"
      },
      "execution_count": null,
      "outputs": []
    },
    {
      "cell_type": "markdown",
      "source": [
        "Let’s define our first model ‘from scratch’ and see how it performs."
      ],
      "metadata": {
        "id": "VEGusZmQZQ6-"
      }
    },
    {
      "cell_type": "code",
      "source": [
        "def get_model():\n",
        "\n",
        "    #Input shape = [width, height, color channels]\n",
        "    inputs = layers.Input(shape=(IMG_SIZE, IMG_SIZE, 3))\n",
        "\n",
        "    # Block One\n",
        "    x = layers.Conv2D(filters=16, kernel_size=3, padding='valid')(inputs)\n",
        "    x = layers.BatchNormalization()(x)\n",
        "    x = layers.Activation('relu')(x)\n",
        "    x = layers.MaxPool2D()(x)\n",
        "    x = layers.Dropout(0.2)(x)\n",
        "\n",
        "    # Block Two\n",
        "    x = layers.Conv2D(filters=32, kernel_size=3, padding='valid')(x)\n",
        "    x = layers.BatchNormalization()(x)\n",
        "    x = layers.Activation('relu')(x)\n",
        "    x = layers.MaxPool2D()(x)\n",
        "    x = layers.Dropout(0.2)(x)\n",
        "\n",
        "    # Block Three\n",
        "    x = layers.Conv2D(filters=64, kernel_size=3, padding='valid')(x)\n",
        "    x = layers.Conv2D(filters=64, kernel_size=3, padding='valid')(x)\n",
        "    x = layers.BatchNormalization()(x)\n",
        "    x = layers.Activation('relu')(x)\n",
        "    x = layers.MaxPool2D()(x)\n",
        "    x = layers.Dropout(0.4)(x)\n",
        "\n",
        "    # Head\n",
        "    #x = layers.BatchNormalization()(x)\n",
        "    x = layers.Flatten()(x)\n",
        "    x = layers.Dense(64, activation='relu')(x)\n",
        "    x = layers.Dropout(0.5)(x)\n",
        "\n",
        "    #Final Layer (Output)\n",
        "    output = layers.Dense(1, activation='sigmoid')(x)\n",
        "\n",
        "    model = keras.Model(inputs=[inputs], outputs=output)\n",
        "\n",
        "    return model"
      ],
      "metadata": {
        "execution": {
          "iopub.status.busy": "2022-01-27T20:34:24.273821Z",
          "iopub.execute_input": "2022-01-27T20:34:24.27438Z",
          "iopub.status.idle": "2022-01-27T20:34:24.290105Z",
          "shell.execute_reply.started": "2022-01-27T20:34:24.274343Z",
          "shell.execute_reply": "2022-01-27T20:34:24.289415Z"
        },
        "trusted": true,
        "id": "eimS86s0ZQ6-"
      },
      "execution_count": null,
      "outputs": []
    },
    {
      "cell_type": "code",
      "source": [
        "keras.backend.clear_session()\n",
        "\n",
        "model = get_model()\n",
        "model.compile(loss='binary_crossentropy'\n",
        "              , optimizer = keras.optimizers.Adam(learning_rate=3e-5), metrics='binary_accuracy')\n",
        "\n",
        "model.summary()"
      ],
      "metadata": {
        "execution": {
          "iopub.status.busy": "2022-01-27T20:34:24.291343Z",
          "iopub.execute_input": "2022-01-27T20:34:24.291979Z",
          "iopub.status.idle": "2022-01-27T20:34:24.403207Z",
          "shell.execute_reply.started": "2022-01-27T20:34:24.291939Z",
          "shell.execute_reply": "2022-01-27T20:34:24.402512Z"
        },
        "trusted": true,
        "id": "Q-thUg4QZQ6_"
      },
      "execution_count": null,
      "outputs": []
    },
    {
      "cell_type": "code",
      "source": [
        "history = model.fit(ds_train,\n",
        "          batch_size = BATCH, epochs = 50,\n",
        "          validation_data=ds_val,\n",
        "          callbacks=[early_stopping, plateau],\n",
        "          steps_per_epoch=(len(train_df)/BATCH),\n",
        "          validation_steps=(len(val_df)/BATCH));"
      ],
      "metadata": {
        "_kg_hide-output": true,
        "execution": {
          "iopub.status.busy": "2022-01-27T20:34:24.4045Z",
          "iopub.execute_input": "2022-01-27T20:34:24.404954Z",
          "iopub.status.idle": "2022-01-27T21:16:03.067315Z",
          "shell.execute_reply.started": "2022-01-27T20:34:24.404916Z",
          "shell.execute_reply": "2022-01-27T21:16:03.066631Z"
        },
        "trusted": true,
        "id": "PRlF_c_LZQ6_"
      },
      "execution_count": null,
      "outputs": []
    },
    {
      "cell_type": "code",
      "source": [
        "fig, ax = plt.subplots(figsize=(20,8))\n",
        "sns.lineplot(x = history.epoch, y = history.history['loss'])\n",
        "sns.lineplot(x = history.epoch, y = history.history['val_loss'])\n",
        "ax.set_title('Learning Curve (Loss)')\n",
        "ax.set_ylabel('Loss')\n",
        "ax.set_xlabel('Epoch')\n",
        "ax.set_ylim(0, 0.5)\n",
        "ax.legend(['train', 'val'], loc='best')\n",
        "plt.show()"
      ],
      "metadata": {
        "_kg_hide-input": true,
        "execution": {
          "iopub.status.busy": "2022-01-27T21:16:03.068782Z",
          "iopub.execute_input": "2022-01-27T21:16:03.069033Z",
          "iopub.status.idle": "2022-01-27T21:16:03.334144Z",
          "shell.execute_reply.started": "2022-01-27T21:16:03.069002Z",
          "shell.execute_reply": "2022-01-27T21:16:03.333437Z"
        },
        "trusted": true,
        "id": "vDcVTmfLZQ7F"
      },
      "execution_count": null,
      "outputs": []
    },
    {
      "cell_type": "code",
      "source": [
        "fig, ax = plt.subplots(figsize=(20,8))\n",
        "sns.lineplot(x = history.epoch, y = history.history['binary_accuracy'])\n",
        "sns.lineplot(x = history.epoch, y = history.history['val_binary_accuracy'])\n",
        "ax.set_title('Learning Curve (Accuracy)')\n",
        "ax.set_ylabel('Accuracy')\n",
        "ax.set_xlabel('Epoch')\n",
        "ax.set_ylim(0.80, 1.0)\n",
        "ax.legend(['train', 'val'], loc='best')\n",
        "plt.show()"
      ],
      "metadata": {
        "_kg_hide-input": true,
        "execution": {
          "iopub.status.busy": "2022-01-27T21:16:03.335381Z",
          "iopub.execute_input": "2022-01-27T21:16:03.336117Z",
          "iopub.status.idle": "2022-01-27T21:16:03.684741Z",
          "shell.execute_reply.started": "2022-01-27T21:16:03.33608Z",
          "shell.execute_reply": "2022-01-27T21:16:03.684016Z"
        },
        "trusted": true,
        "id": "25BfNrrqZQ7G"
      },
      "execution_count": null,
      "outputs": []
    },
    {
      "cell_type": "code",
      "source": [
        "score = model.evaluate(ds_val, steps = len(val_df)/BATCH, verbose = 0)\n",
        "print('Val loss:', score[0])\n",
        "print('Val accuracy:', score[1])"
      ],
      "metadata": {
        "execution": {
          "iopub.status.busy": "2022-01-27T21:16:03.686226Z",
          "iopub.execute_input": "2022-01-27T21:16:03.686742Z",
          "iopub.status.idle": "2022-01-27T21:16:15.714091Z",
          "shell.execute_reply.started": "2022-01-27T21:16:03.686707Z",
          "shell.execute_reply": "2022-01-27T21:16:15.713314Z"
        },
        "trusted": true,
        "id": "awgQMqFEZQ7G"
      },
      "execution_count": null,
      "outputs": []
    },
    {
      "cell_type": "code",
      "source": [
        "score = model.evaluate(ds_test, steps = len(df_test), verbose = 0)\n",
        "\n",
        "print('Test loss:', score[0])\n",
        "print('Test accuracy:', score[1])"
      ],
      "metadata": {
        "_kg_hide-input": false,
        "execution": {
          "iopub.status.busy": "2022-01-27T21:16:15.715513Z",
          "iopub.execute_input": "2022-01-27T21:16:15.715959Z",
          "iopub.status.idle": "2022-01-27T21:16:26.873769Z",
          "shell.execute_reply.started": "2022-01-27T21:16:15.715922Z",
          "shell.execute_reply": "2022-01-27T21:16:26.872982Z"
        },
        "trusted": true,
        "id": "-u4wvxHKZQ7G"
      },
      "execution_count": null,
      "outputs": []
    },
    {
      "cell_type": "markdown",
      "source": [
        "# <a id=\"6\">Transfer Learning</a>"
      ],
      "metadata": {
        "id": "I_OajHKWZQ7H"
      }
    },
    {
      "cell_type": "code",
      "source": [
        "base_model = tf.keras.applications.ResNet152V2(\n",
        "    weights='imagenet',\n",
        "    input_shape=(IMG_SIZE, IMG_SIZE, 3),\n",
        "    include_top=False)\n",
        "\n",
        "base_model.trainable = False\n",
        "\n",
        "def get_pretrained():\n",
        "\n",
        "    #Input shape = [width, height, color channels]\n",
        "    inputs = layers.Input(shape=(IMG_SIZE, IMG_SIZE, 3))\n",
        "\n",
        "    x = base_model(inputs)\n",
        "\n",
        "    # Head\n",
        "    x = layers.GlobalAveragePooling2D()(x)\n",
        "    x = layers.Dense(128, activation='relu')(x)\n",
        "    x = layers.Dropout(0.1)(x)\n",
        "\n",
        "    #Final Layer (Output)\n",
        "    output = layers.Dense(1, activation='sigmoid')(x)\n",
        "\n",
        "    model = keras.Model(inputs=[inputs], outputs=output)\n",
        "\n",
        "    return model"
      ],
      "metadata": {
        "execution": {
          "iopub.status.busy": "2022-01-27T21:16:26.875117Z",
          "iopub.execute_input": "2022-01-27T21:16:26.87594Z",
          "iopub.status.idle": "2022-01-27T21:16:31.605678Z",
          "shell.execute_reply.started": "2022-01-27T21:16:26.875904Z",
          "shell.execute_reply": "2022-01-27T21:16:31.604913Z"
        },
        "trusted": true,
        "id": "PdY3Q2LrZQ7H"
      },
      "execution_count": null,
      "outputs": []
    },
    {
      "cell_type": "code",
      "source": [
        "keras.backend.clear_session()\n",
        "\n",
        "model_pretrained = get_pretrained()\n",
        "model_pretrained.compile(loss='binary_crossentropy'\n",
        "              , optimizer = keras.optimizers.Adam(learning_rate=5e-5), metrics='binary_accuracy')\n",
        "\n",
        "model_pretrained.summary()"
      ],
      "metadata": {
        "execution": {
          "iopub.status.busy": "2022-01-27T21:16:31.606815Z",
          "iopub.execute_input": "2022-01-27T21:16:31.607603Z",
          "iopub.status.idle": "2022-01-27T21:16:32.83208Z",
          "shell.execute_reply.started": "2022-01-27T21:16:31.607547Z",
          "shell.execute_reply": "2022-01-27T21:16:32.831304Z"
        },
        "trusted": true,
        "id": "KDoQgXKmZQ7H"
      },
      "execution_count": null,
      "outputs": []
    },
    {
      "cell_type": "code",
      "source": [
        "history = model_pretrained.fit(ds_train,\n",
        "          batch_size = BATCH, epochs = 50,\n",
        "          validation_data=ds_val,\n",
        "          callbacks=[early_stopping, plateau],\n",
        "          steps_per_epoch=(len(train_df)/BATCH),\n",
        "          validation_steps=(len(val_df)/BATCH));"
      ],
      "metadata": {
        "_kg_hide-output": true,
        "execution": {
          "iopub.status.busy": "2022-01-27T21:16:32.83344Z",
          "iopub.execute_input": "2022-01-27T21:16:32.833885Z",
          "iopub.status.idle": "2022-01-27T21:58:12.599149Z",
          "shell.execute_reply.started": "2022-01-27T21:16:32.833849Z",
          "shell.execute_reply": "2022-01-27T21:58:12.5984Z"
        },
        "trusted": true,
        "id": "qF0_3TBZZQ7I"
      },
      "execution_count": null,
      "outputs": []
    },
    {
      "cell_type": "code",
      "source": [
        "fig, ax = plt.subplots(figsize=(20,8))\n",
        "sns.lineplot(x = history.epoch, y = history.history['loss'])\n",
        "sns.lineplot(x = history.epoch, y = history.history['val_loss'])\n",
        "ax.set_title('Learning Curve (Loss)')\n",
        "ax.set_ylabel('Loss')\n",
        "ax.set_xlabel('Epoch')\n",
        "ax.set_ylim(0, 0.5)\n",
        "ax.legend(['train', 'val'], loc='best')\n",
        "plt.show()"
      ],
      "metadata": {
        "_kg_hide-input": true,
        "execution": {
          "iopub.status.busy": "2022-01-27T21:58:12.600804Z",
          "iopub.execute_input": "2022-01-27T21:58:12.601092Z",
          "iopub.status.idle": "2022-01-27T21:58:12.857218Z",
          "shell.execute_reply.started": "2022-01-27T21:58:12.601058Z",
          "shell.execute_reply": "2022-01-27T21:58:12.856474Z"
        },
        "trusted": true,
        "id": "iUaqdkHXZQ7I"
      },
      "execution_count": null,
      "outputs": []
    },
    {
      "cell_type": "code",
      "source": [
        "fig, ax = plt.subplots(figsize=(20,8))\n",
        "sns.lineplot(x = history.epoch, y = history.history['binary_accuracy'])\n",
        "sns.lineplot(x = history.epoch, y = history.history['val_binary_accuracy'])\n",
        "ax.set_title('Learning Curve (Accuracy)')\n",
        "ax.set_ylabel('Accuracy')\n",
        "ax.set_xlabel('Epoch')\n",
        "ax.set_ylim(0.80, 1.0)\n",
        "ax.legend(['train', 'val'], loc='best')\n",
        "plt.show()"
      ],
      "metadata": {
        "_kg_hide-input": true,
        "execution": {
          "iopub.status.busy": "2022-01-27T21:58:12.858709Z",
          "iopub.execute_input": "2022-01-27T21:58:12.859008Z",
          "iopub.status.idle": "2022-01-27T21:58:13.123922Z",
          "shell.execute_reply.started": "2022-01-27T21:58:12.858972Z",
          "shell.execute_reply": "2022-01-27T21:58:13.123229Z"
        },
        "trusted": true,
        "id": "QCGOT764ZQ7I"
      },
      "execution_count": null,
      "outputs": []
    },
    {
      "cell_type": "code",
      "source": [
        "score = model_pretrained.evaluate(ds_val, steps = len(val_df)/BATCH, verbose = 0)\n",
        "print('Val loss:', score[0])\n",
        "print('Val accuracy:', score[1])"
      ],
      "metadata": {
        "execution": {
          "iopub.status.busy": "2022-01-27T21:58:13.125322Z",
          "iopub.execute_input": "2022-01-27T21:58:13.125728Z",
          "iopub.status.idle": "2022-01-27T21:58:26.443066Z",
          "shell.execute_reply.started": "2022-01-27T21:58:13.125693Z",
          "shell.execute_reply": "2022-01-27T21:58:26.440872Z"
        },
        "trusted": true,
        "id": "Q8bcR_UOZQ7J"
      },
      "execution_count": null,
      "outputs": []
    },
    {
      "cell_type": "code",
      "source": [
        "score = model_pretrained.evaluate(ds_test, steps = len(df_test), verbose = 0)\n",
        "print('Test loss:', score[0])\n",
        "print('Test accuracy:', score[1])"
      ],
      "metadata": {
        "_kg_hide-input": false,
        "execution": {
          "iopub.status.busy": "2022-01-27T21:58:26.444468Z",
          "iopub.execute_input": "2022-01-27T21:58:26.444944Z",
          "iopub.status.idle": "2022-01-27T21:58:44.939387Z",
          "shell.execute_reply.started": "2022-01-27T21:58:26.444906Z",
          "shell.execute_reply": "2022-01-27T21:58:44.938672Z"
        },
        "trusted": true,
        "id": "hDa_O997ZQ7J"
      },
      "execution_count": null,
      "outputs": []
    },
    {
      "cell_type": "markdown",
      "source": [
        "# <a id=\"7\">Fine Tuning</a>"
      ],
      "metadata": {
        "id": "YGb7RCu2ZQ7J"
      }
    },
    {
      "cell_type": "markdown",
      "source": [
        "Our last approach is called Fine Tuning. In the last section, all the layers from the pretrained model were ‘frozen’, preserving the weights calculated during its training on the ImageNet dataset. Now, we are going to unfreeze a few of its last layers and continue the training, tuning the weights from these layers according to our dataset."
      ],
      "metadata": {
        "id": "slbeMcGRZQ7J"
      }
    },
    {
      "cell_type": "code",
      "source": [
        "base_model.trainable = True\n",
        "\n",
        "# Freeze all layers except for the\n",
        "for layer in base_model.layers[:-13]:\n",
        "    layer.trainable = False"
      ],
      "metadata": {
        "execution": {
          "iopub.status.busy": "2022-01-27T21:58:44.940698Z",
          "iopub.execute_input": "2022-01-27T21:58:44.940985Z",
          "iopub.status.idle": "2022-01-27T21:58:44.982337Z",
          "shell.execute_reply.started": "2022-01-27T21:58:44.94095Z",
          "shell.execute_reply": "2022-01-27T21:58:44.981651Z"
        },
        "trusted": true,
        "id": "iRi1e_M6ZQ7K"
      },
      "execution_count": null,
      "outputs": []
    },
    {
      "cell_type": "code",
      "source": [
        "# Check which layers are tuneable (trainable)\n",
        "for layer_number, layer in enumerate(base_model.layers):\n",
        "    print(layer_number, layer.name, layer.trainable)"
      ],
      "metadata": {
        "_kg_hide-input": true,
        "_kg_hide-output": true,
        "execution": {
          "iopub.status.busy": "2022-01-27T21:58:44.983567Z",
          "iopub.execute_input": "2022-01-27T21:58:44.983854Z",
          "iopub.status.idle": "2022-01-27T21:58:45.203387Z",
          "shell.execute_reply.started": "2022-01-27T21:58:44.983821Z",
          "shell.execute_reply": "2022-01-27T21:58:45.20276Z"
        },
        "trusted": true,
        "id": "zlUX0dp7ZQ7K"
      },
      "execution_count": null,
      "outputs": []
    },
    {
      "cell_type": "code",
      "source": [
        "model_pretrained.compile(loss='binary_crossentropy'\n",
        "              , optimizer = keras.optimizers.Adam(learning_rate=2e-6), metrics='binary_accuracy')\n",
        "\n",
        "model_pretrained.summary()"
      ],
      "metadata": {
        "execution": {
          "iopub.status.busy": "2022-01-27T21:58:45.204506Z",
          "iopub.execute_input": "2022-01-27T21:58:45.204839Z",
          "iopub.status.idle": "2022-01-27T21:58:45.256347Z",
          "shell.execute_reply.started": "2022-01-27T21:58:45.204805Z",
          "shell.execute_reply": "2022-01-27T21:58:45.255515Z"
        },
        "trusted": true,
        "id": "hU2qDAJ2ZQ7K"
      },
      "execution_count": null,
      "outputs": []
    },
    {
      "cell_type": "code",
      "source": [
        "history = model_pretrained.fit(ds_train,\n",
        "          batch_size = BATCH, epochs = 50,\n",
        "          validation_data=ds_val,\n",
        "          callbacks=[early_stopping, plateau],\n",
        "          steps_per_epoch=(len(train_df)/BATCH),\n",
        "          validation_steps=(len(val_df)/BATCH));"
      ],
      "metadata": {
        "_kg_hide-output": true,
        "execution": {
          "iopub.status.busy": "2022-01-27T21:58:45.258399Z",
          "iopub.execute_input": "2022-01-27T21:58:45.259337Z",
          "iopub.status.idle": "2022-01-27T22:35:10.825647Z",
          "shell.execute_reply.started": "2022-01-27T21:58:45.259304Z",
          "shell.execute_reply": "2022-01-27T22:35:10.820633Z"
        },
        "trusted": true,
        "id": "j5f4kWuRZQ7K"
      },
      "execution_count": null,
      "outputs": []
    },
    {
      "cell_type": "code",
      "source": [
        "fig, ax = plt.subplots(figsize=(20,8))\n",
        "sns.lineplot(x = history.epoch, y = history.history['loss'])\n",
        "sns.lineplot(x = history.epoch, y = history.history['val_loss'])\n",
        "ax.set_title('Learning Curve (Loss)')\n",
        "ax.set_ylabel('Loss')\n",
        "ax.set_xlabel('Epoch')\n",
        "ax.set_ylim(0, 0.3)\n",
        "ax.legend(['train', 'val'], loc='best')\n",
        "plt.show()"
      ],
      "metadata": {
        "_kg_hide-input": true,
        "execution": {
          "iopub.status.busy": "2022-01-27T22:35:10.827542Z",
          "iopub.execute_input": "2022-01-27T22:35:10.828087Z",
          "iopub.status.idle": "2022-01-27T22:35:11.219224Z",
          "shell.execute_reply.started": "2022-01-27T22:35:10.82805Z",
          "shell.execute_reply": "2022-01-27T22:35:11.218569Z"
        },
        "trusted": true,
        "id": "Qd1tUamnZQ7L"
      },
      "execution_count": null,
      "outputs": []
    },
    {
      "cell_type": "code",
      "source": [
        "fig, ax = plt.subplots(figsize=(20,8))\n",
        "sns.lineplot(x = history.epoch, y = history.history['binary_accuracy'])\n",
        "sns.lineplot(x = history.epoch, y = history.history['val_binary_accuracy'])\n",
        "ax.set_title('Learning Curve (Accuracy)')\n",
        "ax.set_ylabel('Accuracy')\n",
        "ax.set_xlabel('Epoch')\n",
        "ax.set_ylim(0.90, 1.0)\n",
        "ax.legend(['train', 'val'], loc='best')\n",
        "plt.show()"
      ],
      "metadata": {
        "_kg_hide-input": true,
        "execution": {
          "iopub.status.busy": "2022-01-27T22:35:11.220676Z",
          "iopub.execute_input": "2022-01-27T22:35:11.221175Z",
          "iopub.status.idle": "2022-01-27T22:35:11.568171Z",
          "shell.execute_reply.started": "2022-01-27T22:35:11.22114Z",
          "shell.execute_reply": "2022-01-27T22:35:11.567477Z"
        },
        "trusted": true,
        "id": "QGBWhaUIZQ7L"
      },
      "execution_count": null,
      "outputs": []
    },
    {
      "cell_type": "code",
      "source": [
        "score = model_pretrained.evaluate(ds_val, steps = len(val_df)/BATCH, verbose = 0)\n",
        "print('Val loss:', score[0])\n",
        "print('Val accuracy:', score[1])"
      ],
      "metadata": {
        "execution": {
          "iopub.status.busy": "2022-01-27T22:35:11.569608Z",
          "iopub.execute_input": "2022-01-27T22:35:11.570425Z",
          "iopub.status.idle": "2022-01-27T22:35:24.721213Z",
          "shell.execute_reply.started": "2022-01-27T22:35:11.570388Z",
          "shell.execute_reply": "2022-01-27T22:35:24.720324Z"
        },
        "trusted": true,
        "id": "OJwB_DXIZQ7L"
      },
      "execution_count": null,
      "outputs": []
    },
    {
      "cell_type": "code",
      "source": [
        "score = model_pretrained.evaluate(ds_test, steps = len(df_test), verbose = 0)\n",
        "print('Test loss:', score[0])\n",
        "print('Test accuracy:', score[1])"
      ],
      "metadata": {
        "execution": {
          "iopub.status.busy": "2022-01-27T22:35:24.727521Z",
          "iopub.execute_input": "2022-01-27T22:35:24.728255Z",
          "iopub.status.idle": "2022-01-27T22:35:43.181232Z",
          "shell.execute_reply.started": "2022-01-27T22:35:24.728215Z",
          "shell.execute_reply": "2022-01-27T22:35:43.180495Z"
        },
        "trusted": true,
        "id": "NaHu41sTZQ7M"
      },
      "execution_count": null,
      "outputs": []
    },
    {
      "cell_type": "markdown",
      "source": [
        "As expected, the fine-tuning approach has reached the best score. We end this notebook by showing a few performance metrics."
      ],
      "metadata": {
        "id": "hAMdU4exZQ7M"
      }
    },
    {
      "cell_type": "markdown",
      "source": [
        "# <a id=\"8\">Performance Metrics</a>"
      ],
      "metadata": {
        "id": "_adU7L2TZQ7M"
      }
    },
    {
      "cell_type": "code",
      "source": [
        "num_label = {'Normal': 0, 'Pneumonia' : 1}\n",
        "Y_test = df_test['class'].copy().map(num_label).astype('int')"
      ],
      "metadata": {
        "_kg_hide-input": true,
        "execution": {
          "iopub.status.busy": "2022-01-27T22:35:43.198557Z",
          "iopub.execute_input": "2022-01-27T22:35:43.199372Z",
          "iopub.status.idle": "2022-01-27T22:35:43.206439Z"
        },
        "trusted": true,
        "id": "wnf-zi3wZQ7M"
      },
      "execution_count": null,
      "outputs": []
    },
    {
      "cell_type": "code",
      "source": [
        "ds_test.reset()\n",
        "predictions = model_pretrained.predict(ds_test, steps=len(ds_test), verbose=0)\n",
        "pred_labels= np.where(predictions>0.5, 1, 0)"
      ],
      "metadata": {
        "execution": {
          "iopub.status.busy": "2022-01-27T22:35:43.207506Z",
          "iopub.execute_input": "2022-01-27T22:35:43.208338Z",
          "iopub.status.idle": "2022-01-27T22:36:01.758014Z"
        },
        "trusted": true,
        "id": "5S_eYNPGZQ7N"
      },
      "execution_count": null,
      "outputs": []
    },
    {
      "cell_type": "code",
      "source": [
        "print(\"Test Accuracy: \", accuracy_score(Y_test, pred_labels))"
      ],
      "metadata": {
        "execution": {
          "iopub.status.busy": "2022-01-27T22:36:01.760215Z",
          "iopub.execute_input": "2022-01-27T22:36:01.760474Z",
          "iopub.status.idle": "2022-01-27T22:36:01.770527Z"
        },
        "trusted": true,
        "id": "ifJi6g3RZQ7N"
      },
      "execution_count": null,
      "outputs": []
    },
    {
      "cell_type": "code",
      "source": [
        "confusion_matrix = metrics.confusion_matrix(Y_test, pred_labels)\n",
        "sns.heatmap(confusion_matrix, annot=True, fmt=\"d\")\n",
        "\n",
        "plt.xlabel(\"Predicted Label\", fontsize= 12)\n",
        "plt.ylabel(\"True Label\", fontsize= 12)\n",
        "\n",
        "plt.show()"
      ],
      "metadata": {
        "_kg_hide-input": true,
        "_kg_hide-output": false,
        "execution": {
          "iopub.status.busy": "2022-01-27T22:36:01.771825Z",
          "iopub.execute_input": "2022-01-27T22:36:01.77225Z",
          "iopub.status.idle": "2022-01-27T22:36:01.985213Z"
        },
        "trusted": true,
        "id": "LEJPbAiyZQ7N"
      },
      "execution_count": null,
      "outputs": []
    },
    {
      "cell_type": "code",
      "source": [
        "print(metrics.classification_report(Y_test, pred_labels, labels = [0, 1]))"
      ],
      "metadata": {
        "_kg_hide-input": true,
        "execution": {
          "iopub.status.busy": "2022-01-27T22:36:01.986274Z",
          "iopub.execute_input": "2022-01-27T22:36:01.986687Z",
          "iopub.status.idle": "2022-01-27T22:36:02.000259Z"
        },
        "trusted": true,
        "id": "Ze3uisO5ZQ7N"
      },
      "execution_count": null,
      "outputs": []
    },
    {
      "cell_type": "code",
      "source": [
        "roc_auc = metrics.roc_auc_score(Y_test, predictions)\n",
        "print('ROC_AUC: ', roc_auc)\n",
        "\n",
        "fpr, tpr, thresholds = metrics.roc_curve(Y_test, predictions)\n",
        "\n",
        "plt.plot(fpr, tpr, label = 'ROC_AUC = %0.3f' % roc_auc)\n",
        "\n",
        "plt.xlabel(\"False Positive Rate\", fontsize= 12)\n",
        "plt.ylabel(\"True Positive Rate\", fontsize= 12)\n",
        "plt.legend(loc=\"lower right\")\n",
        "\n",
        "plt.show()"
      ],
      "metadata": {
        "_kg_hide-input": true,
        "execution": {
          "iopub.status.busy": "2022-01-27T22:36:02.001552Z",
          "iopub.execute_input": "2022-01-27T22:36:02.002118Z",
          "iopub.status.idle": "2022-01-27T22:36:02.189191Z"
        },
        "trusted": true,
        "id": "L_Qa5turZQ7O"
      },
      "execution_count": null,
      "outputs": []
    }
  ]
}